{
  "nbformat": 4,
  "nbformat_minor": 0,
  "metadata": {
    "colab": {
      "provenance": [],
      "authorship_tag": "ABX9TyPfLFV//+haA6Td/VWPTG7a",
      "include_colab_link": true
    },
    "kernelspec": {
      "name": "python3",
      "display_name": "Python 3"
    },
    "language_info": {
      "name": "python"
    }
  },
  "cells": [
    {
      "cell_type": "markdown",
      "metadata": {
        "id": "view-in-github",
        "colab_type": "text"
      },
      "source": [
        "<a href=\"https://colab.research.google.com/github/MegatronRobot/AdvancedLearningAlgosCourse/blob/main/Week1/layers_and_neurons.ipynb\" target=\"_parent\"><img src=\"https://colab.research.google.com/assets/colab-badge.svg\" alt=\"Open In Colab\"/></a>"
      ]
    },
    {
      "cell_type": "code",
      "execution_count": 7,
      "metadata": {
        "id": "NQw4vUoZXzjX"
      },
      "outputs": [],
      "source": [
        "# based on keras interface\n",
        "import numpy as np\n",
        "import matplotlib.pyplot as plt\n",
        "import tensorflow as tf\n",
        "from tensorflow.keras.layers import Dense, Input\n",
        "from tensorflow.keras import Sequential\n",
        "from tensorflow.keras.losses import MeanSquaredError, BinaryCrossentropy\n",
        "from tensorflow.keras.activations import sigmoid\n",
        "import logging\n",
        "tf.autograph.set_verbosity(0)"
      ]
    },
    {
      "cell_type": "markdown",
      "source": [
        "**Neuron without activation - Regression/Linear Model**"
      ],
      "metadata": {
        "id": "LNf7v3ocZAP6"
      }
    },
    {
      "cell_type": "code",
      "source": [
        "X_train = np.array([[1.0], [2.0]], dtype=np.float32) # size in 1000 square feet\n",
        "Y_train = np.array([[300.0], [500.0]], dtype=np.float32) # price in 1000s of dollars\n",
        "# m = 2, n = 1\n",
        "\n",
        "fig, ax = plt.subplots(1, 1)\n",
        "ax.scatter(X_train, Y_train, marker=\"x\", c=\"r\", label=\"Data Points\")\n",
        "ax.legend(fontsize=\"xx-large\")\n",
        "ax.set_ylabel(\"Price (in 1000s of dollars)\", fontsize=\"xx-large\")\n",
        "ax.set_xlabel(\"Size (1000 sqft)\", fontsize=\"xx-large\")\n",
        "plt.show()"
      ],
      "metadata": {
        "colab": {
          "base_uri": "https://localhost:8080/",
          "height": 459
        },
        "id": "s3_lUCXOY9_z",
        "outputId": "298202e8-a0bc-49d9-e060-0a5def92fc96"
      },
      "execution_count": 8,
      "outputs": [
        {
          "output_type": "display_data",
          "data": {
            "text/plain": [
              "<Figure size 640x480 with 1 Axes>"
            ],
            "image/png": "[encoded data removed]"
          },
          "metadata": {}
        }
      ]
    },
    {
      "cell_type": "code",
      "source": [
        "# The function implemented by a neuron with no activation is the same as linear regression:\n",
        "linear_layer = tf.keras.layers.Dense(units=1, activation=\"linear\")"
      ],
      "metadata": {
        "id": "gI_d80OFruic"
      },
      "execution_count": 9,
      "outputs": []
    },
    {
      "cell_type": "code",
      "source": [
        "linear_layer.get_weights()"
      ],
      "metadata": {
        "colab": {
          "base_uri": "https://localhost:8080/"
        },
        "id": "j-klWUVSr_9o",
        "outputId": "6fc42905-2595-4a0d-c821-a705504e1cf0"
      },
      "execution_count": 10,
      "outputs": [
        {
          "output_type": "execute_result",
          "data": {
            "text/plain": [
              "[]"
            ]
          },
          "metadata": {},
          "execution_count": 10
        }
      ]
    },
    {
      "cell_type": "code",
      "source": [
        "# this will trigger the instantiation of the weights\n",
        "#X_train = np.asarray(X_train).astype('float32') #keep it float 32 to avoid error\n",
        "a1 = linear_layer(X_train[0].reshape(1, 1))\n",
        "print(a1)"
      ],
      "metadata": {
        "colab": {
          "base_uri": "https://localhost:8080/"
        },
        "id": "M3iX6IFPsE8d",
        "outputId": "d2517d7b-2d9e-42e4-dc8d-a117027bffa4"
      },
      "execution_count": 13,
      "outputs": [
        {
          "output_type": "stream",
          "name": "stdout",
          "text": [
            "tf.Tensor([[-1.3771163]], shape=(1, 1), dtype=float32)\n"
          ]
        }
      ]
    },
    {
      "cell_type": "code",
      "source": [
        "w, b = linear_layer.get_weights()\n",
        "print(f\"w = {w}, b = {b}\")  # weights are randomly initialized to small number and bias defaulting to zero"
      ],
      "metadata": {
        "colab": {
          "base_uri": "https://localhost:8080/"
        },
        "id": "LJcn9ObTtKNX",
        "outputId": "0fb7e38e-34c4-456d-c799-79f8a94ab9fa"
      },
      "execution_count": 15,
      "outputs": [
        {
          "output_type": "stream",
          "name": "stdout",
          "text": [
            "w = [[-1.3771163]], b = [0.]\n"
          ]
        }
      ]
    },
    {
      "cell_type": "code",
      "source": [
        "# we can set {w} and {b} to some known values\n",
        "set_w = np.array([[200]])\n",
        "set_b = np.array([100])\n",
        "\n",
        "# set_weights takes a list of numpy arrays\n",
        "linear_layer.set_weights([set_w, set_b])\n",
        "print(linear_layer.get_weights())"
      ],
      "metadata": {
        "colab": {
          "base_uri": "https://localhost:8080/"
        },
        "id": "PfEQUSaTtg4w",
        "outputId": "5a2aeafe-161b-4db1-9197-1bdfbe18f397"
      },
      "execution_count": 16,
      "outputs": [
        {
          "output_type": "stream",
          "name": "stdout",
          "text": [
            "[array([[200.]], dtype=float32), array([100.], dtype=float32)]\n"
          ]
        }
      ]
    },
    {
      "cell_type": "code",
      "source": [
        "# comparing outputs to linear regression\n",
        "a1 = linear_layer(X_train[0].reshape(1, 1))\n",
        "print(a1)\n",
        "alin = np.dot(set_w, X_train[0].reshape(1, 1))+set_b\n",
        "print(alin)"
      ],
      "metadata": {
        "colab": {
          "base_uri": "https://localhost:8080/"
        },
        "id": "3__MrR4qti1g",
        "outputId": "2bd36db6-221c-48da-ef9b-e0169f241a63"
      },
      "execution_count": 17,
      "outputs": [
        {
          "output_type": "stream",
          "name": "stdout",
          "text": [
            "tf.Tensor([[300.]], shape=(1, 1), dtype=float32)\n",
            "[[300.]]\n"
          ]
        }
      ]
    },
    {
      "cell_type": "code",
      "source": [
        "prediction_tf = linear_layer(X_train)\n",
        "prediction_np = np.dot(X_train, set_w) + set_b\n",
        "print(prediction_tf)\n",
        "print(prediction_np)"
      ],
      "metadata": {
        "colab": {
          "base_uri": "https://localhost:8080/"
        },
        "id": "FubDGxCRuON3",
        "outputId": "676e04b2-0857-413d-e8f4-52705644a8ef"
      },
      "execution_count": 19,
      "outputs": [
        {
          "output_type": "stream",
          "name": "stdout",
          "text": [
            "tf.Tensor(\n",
            "[[300.]\n",
            " [500.]], shape=(2, 1), dtype=float32)\n",
            "[[300.]\n",
            " [500.]]\n"
          ]
        }
      ]
    },
    {
      "cell_type": "markdown",
      "source": [
        "**Neuron with Sigmoid Activation**\n",
        "\n",
        "which is same as logistic regression"
      ],
      "metadata": {
        "id": "4HcOf424uwmZ"
      }
    },
    {
      "cell_type": "code",
      "source": [
        "X_train = np.array([0., 1, 2, 3, 4, 5], dtype=np.float32).reshape(-1, 1)\n",
        "Y_train = np.array([0, 0, 0, 1, 1, 1], dtype=np.float32).reshape(-1, 1)"
      ],
      "metadata": {
        "id": "818JtgJ6ui2u"
      },
      "execution_count": 20,
      "outputs": []
    },
    {
      "cell_type": "code",
      "source": [
        "pos = Y_train == 1\n",
        "neg = Y_train == 0\n",
        "X_train[pos]"
      ],
      "metadata": {
        "colab": {
          "base_uri": "https://localhost:8080/"
        },
        "id": "T8-P2rWGvIm_",
        "outputId": "54adb4d4-30e9-47de-fac8-a88efb38074a"
      },
      "execution_count": 21,
      "outputs": [
        {
          "output_type": "execute_result",
          "data": {
            "text/plain": [
              "array([3., 4., 5.], dtype=float32)"
            ]
          },
          "metadata": {},
          "execution_count": 21
        }
      ]
    },
    {
      "cell_type": "code",
      "source": [
        "fig, ax = plt.subplots(1, 1, figsize=(4, 3))\n",
        "ax.scatter(X_train[pos], Y_train[pos], marker=\"x\", s=80, c=\"red\", label=\"y=1\")\n",
        "ax.scatter(X_train[neg], Y_train[neg], marker=\"o\", s=100,c=\"blue\", label=\"y=0\", lw=3)\n",
        "\n",
        "ax.set_ylim(-0.08, 1.1)\n",
        "ax.set_ylabel(\"y\", fontsize=12)\n",
        "ax.set_xlabel(\"x\", fontsize=12)\n",
        "ax.set_title(\"one variable plot\")\n",
        "plt.legend()\n",
        "plt.show()"
      ],
      "metadata": {
        "colab": {
          "base_uri": "https://localhost:8080/",
          "height": 337
        },
        "id": "bvbzk6uMvQU9",
        "outputId": "7b59bc7b-ded7-4f31-ed5c-84cf198e61b4"
      },
      "execution_count": 22,
      "outputs": [
        {
          "output_type": "display_data",
          "data": {
            "text/plain": [
              "<Figure size 400x300 with 1 Axes>"
            ],
            "image/png": "[encoded data removed]"
          },
          "metadata": {}
        }
      ]
    },
    {
      "cell_type": "markdown",
      "source": [
        "### Logistic Neuron\n",
        "We can implement a 'logistic neuron' by adding a sigmoid activation. The function of the neuron is then described by (2) above.   \n",
        "This section will create a Tensorflow Model that contains our logistic layer to demonstrate an alternate method of creating models. Tensorflow is most often used to create multi-layer models. The [Sequential](https://keras.io/guides/sequential_model/) model is a convenient means of constructing these models."
      ],
      "metadata": {
        "id": "j5_4BPM6wSf5"
      }
    },
    {
      "cell_type": "code",
      "source": [
        "model = Sequential(\n",
        "    [\n",
        "        tf.keras.layers.Dense(1, input_dim=1, activation=\"sigmoid\", name=\"L1\")\n",
        "    ]\n",
        ")"
      ],
      "metadata": {
        "id": "h-FSvrOSwHkG"
      },
      "execution_count": 23,
      "outputs": []
    },
    {
      "cell_type": "code",
      "source": [
        "# model.summary() shows the layers and number of parameters in the model\n",
        "# here one layer and one neuron and it has two parameters, w and b\n",
        "model.summary()"
      ],
      "metadata": {
        "colab": {
          "base_uri": "https://localhost:8080/"
        },
        "id": "n2WnSoS6wg_a",
        "outputId": "534b9d10-96c0-4536-a64c-17bbcd2bb000"
      },
      "execution_count": 24,
      "outputs": [
        {
          "output_type": "stream",
          "name": "stdout",
          "text": [
            "Model: \"sequential\"\n",
            "_________________________________________________________________\n",
            " Layer (type)                Output Shape              Param #   \n",
            "=================================================================\n",
            " L1 (Dense)                  (None, 1)                 2         \n",
            "                                                                 \n",
            "=================================================================\n",
            "Total params: 2 (8.00 Byte)\n",
            "Trainable params: 2 (8.00 Byte)\n",
            "Non-trainable params: 0 (0.00 Byte)\n",
            "_________________________________________________________________\n"
          ]
        }
      ]
    },
    {
      "cell_type": "code",
      "source": [
        "logistic_layer = model.get_layer(\"L1\")\n",
        "w, b = logistic_layer.get_weights()\n",
        "print(w, b)\n",
        "print(w.shape, b.shape)"
      ],
      "metadata": {
        "colab": {
          "base_uri": "https://localhost:8080/"
        },
        "id": "5gmJMU_dwrpE",
        "outputId": "c02ff3f1-b564-4c19-c656-5ce120191136"
      },
      "execution_count": 25,
      "outputs": [
        {
          "output_type": "stream",
          "name": "stdout",
          "text": [
            "[[0.89502347]] [0.]\n",
            "(1, 1) (1,)\n"
          ]
        }
      ]
    },
    {
      "cell_type": "code",
      "source": [
        "# Let's set weight and bias to some known values\n",
        "set_w = np.array([[2]])\n",
        "set_b = np.array([-4.5])\n",
        "# set_weights takes a list of numpy arrays\n",
        "logistic_layer.set_weights([set_w, set_b])\n",
        "print(logistic_layer.get_weights())"
      ],
      "metadata": {
        "colab": {
          "base_uri": "https://localhost:8080/"
        },
        "id": "hoKNQxJQw21_",
        "outputId": "61573c46-9d2d-42bf-fe8b-bf004da32b20"
      },
      "execution_count": 26,
      "outputs": [
        {
          "output_type": "stream",
          "name": "stdout",
          "text": [
            "[array([[2.]], dtype=float32), array([-4.5], dtype=float32)]\n"
          ]
        }
      ]
    },
    {
      "cell_type": "code",
      "source": [
        "def sigmoidnp(z):\n",
        "  return 1/(1+np.exp(-z))"
      ],
      "metadata": {
        "id": "LBK6ZjHsxeI5"
      },
      "execution_count": 28,
      "outputs": []
    },
    {
      "cell_type": "code",
      "source": [
        "# comparing output to original logistic regression\n",
        "a1 = model.predict(X_train[0].reshape(1, 1))\n",
        "print(a1)\n",
        "alog = sigmoidnp(np.dot(set_w, X_train[0].reshape(1, 1))+set_b)\n",
        "print(alog)"
      ],
      "metadata": {
        "colab": {
          "base_uri": "https://localhost:8080/"
        },
        "id": "3b74qMGLxIbU",
        "outputId": "318ea021-78a3-4703-8bb1-2f9cb4761a7f"
      },
      "execution_count": 29,
      "outputs": [
        {
          "output_type": "stream",
          "name": "stdout",
          "text": [
            "1/1 [==============================] - 0s 26ms/step\n",
            "[[0.01098694]]\n",
            "[[0.01098694]]\n"
          ]
        }
      ]
    },
    {
      "cell_type": "code",
      "source": [
        "# Now we can use our logistic layer and Numpy moel to make predictions\n",
        "prediction = model.predict(X_train)\n",
        "print(prediction)"
      ],
      "metadata": {
        "colab": {
          "base_uri": "https://localhost:8080/"
        },
        "id": "QRQgYau_xkaf",
        "outputId": "28b71d63-0b75-4824-8b67-3e5b35cdb69a"
      },
      "execution_count": 35,
      "outputs": [
        {
          "output_type": "stream",
          "name": "stdout",
          "text": [
            "1/1 [==============================] - 0s 35ms/step\n",
            "[[0.01098694]\n",
            " [0.07585818]\n",
            " [0.37754068]\n",
            " [0.8175745 ]\n",
            " [0.97068775]\n",
            " [0.99592984]]\n"
          ]
        }
      ]
    }
  ]
}